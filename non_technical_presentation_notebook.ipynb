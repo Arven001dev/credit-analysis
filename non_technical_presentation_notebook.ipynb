{
 "cells": [
  {
   "cell_type": "markdown",
   "metadata": {},
   "source": [
    "# Beginning\n",
    "\n",
    "## Prédiction du risque de défaut de crédit\n",
    "\n",
    "Cette présentation résume notre projet visant à utiliser le machine learning pour évaluer et prédire le risque de défaut de paiement des emprunteurs."
   ]
  },
  {
   "cell_type": "markdown",
   "metadata": {},
   "source": [
    "# Overview\n",
    "\n",
    "Notre objectif est de construire et de comparer des modèles prédictifs pour aider les institutions financières à mieux évaluer le risque de crédit et à réduire les pertes potentielles. Nous avons suivi une approche progressive en plusieurs étapes :\n",
    "1. Comprendre le problème et les données\n",
    "2. Modéliser le risque\n",
    "3. Évaluer les modèles\n",
    "4. Formuler des recommandations\n",
    "5. Planifier les prochaines étapes"
   ]
  },
  {
   "cell_type": "markdown",
   "metadata": {},
   "source": [
    "# Business and Data Understanding\n",
    "\n",
    "**Problème métier :** Le défaut de remboursement est un enjeu majeur pour les banques, car il peut générer des pertes importantes. Les méthodes d'évaluation traditionnelles ne sont pas toujours suffisantes. Le machine learning nous permet de prédire la probabilité de défaut en se basant sur les caractéristiques des clients afin d'améliorer la gestion des risques financiers.\n",
    "\n",
    "**Données :**\n",
    "- Source : Dataset 'Give Me Some Credit' de Kaggle\n",
    "- Taille : 150 000 observations et 11 variables\n",
    "- Variables clés : financières, comportementales, démographiques\n",
    "- Variable cible : `SeriousDlqin2yrs`\n",
    "    - Signification : indique si la personne a connu un retard de paiement important (90 jours ou plus) ou un défaut sérieux au cours des deux années précédentes\n",
    "    - Valeur 1 : L'emprunteur a connu des difficultés financières sérieuses (retard ≥ 90 jours ou défaut)\n",
    "    - Valeur 0 : L'emprunteur n'a pas connu de tels événements"
   ]
  },
  {
   "cell_type": "markdown",
   "metadata": {},
   "source": [
    "# Modeling\n",
    "\n",
    "Nous avons développé et entraîné trois modèles pour ce projet :\n",
    "- Régression logistique : simple et interprétable, permet de comprendre l’impact des différentes variables sur le risque de crédit.\n",
    "- Arbre de décision : capture les relations complexes entre variables mais peut générer beaucoup de faux positifs.\n",
    "- Forêt aléatoire (Random Forest) : combine plusieurs arbres pour une approche robuste, offrant le meilleur compromis entre rappel et précision."
   ]
  },
  {
   "cell_type": "markdown",
   "metadata": {},
   "source": [
    "# Evaluation\n",
    "\n",
    "Pour évaluer la performance de chaque modèle, nous nous sommes concentrés sur plusieurs métriques clés : rappel, précision, F1-score et AUC-ROC.\n",
    "\n",
    "| Modèle               | Précision | Rappel | F1-score | AUC-ROC |\n",
    "|----------------------|-----------|--------|----------|---------|\n",
    "| Régression logistique | 0.201     | 0.618  | 0.304    | 0.783   |\n",
    "| Arbre de décision     | 0.182     | 0.778  | 0.296    | 0.829   |\n",
    "| Forêt aléatoire       | 0.212     | 0.743  | 0.330    | 0.846   |\n",
    "\n",
    "La forêt aléatoire est le meilleur modèle, détectant la majorité des clients à risque tout en limitant les interventions inutiles."
   ]
  },
  {
   "cell_type": "markdown",
   "metadata": {},
   "source": [
    "# Recommendations\n",
    "\n",
    "- Identifier les clients à risque pour surveiller ou ajuster leurs conditions de prêt\n",
    "- Limiter les interventions inutiles auprès des clients solvables\n",
    "- Optimiser les garanties et conditions de crédit pour les clients à risque"
   ]
  },
  {
   "cell_type": "markdown",
   "metadata": {},
   "source": [
    "# Next Steps\n",
    "\n",
    "- Intégrer des sources de données supplémentaires pour enrichir le profil des clients\n",
    "- Explorer des techniques de modélisation plus avancées, comme le deep learning\n",
    "- Mettre à jour régulièrement le modèle avec de nouvelles données pour maintenir sa fiabilité"
   ]
  },
  {
   "cell_type": "markdown",
   "metadata": {},
   "source": [
    "# Thank You\n",
    "\n",
    "*Questions ?*"
   ]
  }
 ],
 "metadata": {
  "kernelspec": {
   "display_name": "Python 3",
   "language": "python",
   "name": "python3"
  },
  "language_info": {
   "codemirror_mode": {
    "name": "ipython",
    "version": 3
   },
   "file_extension": ".py",
   "mimetype": "text/x-python",
   "name": "python",
   "nbconvert_exporter": "python",
   "pygments_lexer": "ipython3",
   "version": "3.8.5"
  }
 },
 "nbformat": 4,
 "nbformat_minor": 5
}
